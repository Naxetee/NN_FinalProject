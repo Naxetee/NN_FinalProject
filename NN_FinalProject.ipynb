{
 "cells": [
  {
   "attachments": {},
   "cell_type": "markdown",
   "metadata": {},
   "source": [
    "<h1 style=\"text-align: center;\">Gradient Descent Without Backpropagation</h1>\n",
    "<h4 style=\"text-align: center;\">Author: Ignacio &Aacute;vila Reyes</h4>\n"
   ]
  },
  {
   "attachments": {},
   "cell_type": "markdown",
   "metadata": {},
   "source": [
    "# Python Libraries"
   ]
  },
  {
   "cell_type": "code",
   "execution_count": 1,
   "metadata": {},
   "outputs": [],
   "source": [
    "import torch\n",
    "from matplotlib import pyplot as plt\n",
    "import functorch as fc\n",
    "import time\n",
    "from functools import partial\n",
    "from src.fwdgrad.loss import functional_xent\n",
    "from copy import deepcopy"
   ]
  },
  {
   "attachments": {},
   "cell_type": "markdown",
   "metadata": {},
   "source": [
    "# Index\n"
   ]
  },
  {
   "attachments": {},
   "cell_type": "markdown",
   "metadata": {},
   "source": [
    "1. [Introduction](#id1)\n",
    "2. [Getting in touch with the code](#id2)\n",
    "    + Forward Mode\n",
    "    + Reverse Mode\n",
    "3. [More in depth](#id3)\n",
    "    + Forward Gradient Method\n",
    "4. [Some simple proofs](#id4)\n",
    "    + Backpropagation\n",
    "    + Forward Propagation  \n",
    "5. [Real-World Applications](#id5)\n",
    "    + Downloading the MNIST Dataset\n",
    "    + Defining a DataLoader\n",
    "    + Defining Fixed Parameters\n",
    "    + Building the model\n",
    "    + Backpropagation\n",
    "        - Training\n",
    "        - Evaluating\n",
    "    + Forward Propagation\n",
    "        - Training\n",
    "        - Evaluating\n",
    "    + Comparing Parameters"
   ]
  },
  {
   "attachments": {},
   "cell_type": "markdown",
   "metadata": {},
   "source": [
    "# Introduction <a name=\"id1\"></a>\n",
    "<div id='id1' />"
   ]
  },
  {
   "attachments": {},
   "cell_type": "markdown",
   "metadata": {},
   "source": [
    "Using **backpropagation** to compute gradients of functions in order to train *Neural Networks* has been the order of the day for a long time.\n",
    "\n",
    "Here we present an alternative method which is called **Forward Gradient** and its main advantage is computing the gradient during the forward step. Roughly speaking, this is an unbiased estimate of the gradient that permits us to entirely remove the backward step during the training of a neural network.\n",
    "\n",
    "Let's explain briefly each one of the methods:\n"
   ]
  },
  {
   "attachments": {},
   "cell_type": "markdown",
   "metadata": {},
   "source": [
    "# Getting in touch with the code\n",
    "<div id='id2' />\n"
   ]
  },
  {
   "attachments": {},
   "cell_type": "markdown",
   "metadata": {},
   "source": [
    "## Forward Mode\n",
    "\n",
    "Given a function $f:\\mathbb{R}^n\\longrightarrow\\mathbb{R}^m$ and the values $\\theta\\in\\mathbb{R}^n$, $v\\in\\mathbb{R}^n$. _Forward Mode_ computes $f(\\theta)$ and the jacobian vector product $J_f(\\theta)\\cdot v$ where $v$ is a vector of perturbations. All of this computed in just the **Forward Step**.\n",
    "\n",
    "<div align=\"center\"><img alt=\"Forward Step Scheme\" src=\"./src/images/fwdStep.png\"></div>\n",
    "\n",
    "Firstly, let's get in touch with the method:\n"
   ]
  },
  {
   "cell_type": "code",
   "execution_count": 2,
   "metadata": {},
   "outputs": [
    {
     "name": "stdout",
     "output_type": "stream",
     "text": [
      "Using NVIDIA GeForce GTX 1050\n"
     ]
    }
   ],
   "source": [
    "# Let's try to use CUDA\n",
    "DEVICE = torch.device(f\"cuda:0\" if torch.cuda.is_available() else \"cpu\")\n",
    "print(\"Using\", torch.cuda.get_device_name(DEVICE))\n"
   ]
  },
  {
   "cell_type": "code",
   "execution_count": 3,
   "metadata": {},
   "outputs": [
    {
     "name": "stdout",
     "output_type": "stream",
     "text": [
      "tensor([[ 0.1477, -1.0619]], device='cuda:0')\n"
     ]
    }
   ],
   "source": [
    "# We define an input\n",
    "input = torch.tensor([[5., 10.]]).to(DEVICE)\n",
    "\n",
    "# Our random vector\n",
    "v = torch.randn_like(input)\n",
    "print(v)\n",
    "\n",
    "# A function\n",
    "\n",
    "def f(x):\n",
    "    return x**2\n"
   ]
  },
  {
   "cell_type": "code",
   "execution_count": 4,
   "metadata": {},
   "outputs": [
    {
     "name": "stdout",
     "output_type": "stream",
     "text": [
      "Results: tensor([[ 25., 100.]], device='cuda:0')\n",
      "Gradient: tensor([[  1.4772, -21.2375]], device='cuda:0')\n"
     ]
    }
   ],
   "source": [
    "# funtorch.jvp(f, input, vector) returns f(input) and the directional gradient of\n",
    "# \"f\" in \"input\" with direction \"vector\"\n",
    "value, grad = fc.jvp(f, (input,), (v.to(DEVICE),))\n",
    "print(\"Results:\", value)\n",
    "print(\"Gradient:\", grad)"
   ]
  },
  {
   "attachments": {},
   "cell_type": "markdown",
   "metadata": {},
   "source": [
    "## Reverse Mode\n",
    "\n",
    "Given a function $f:\\mathbb{R}^n\\longrightarrow\\mathbb{R}^m$ and the values $\\theta\\in\\mathbb{R}^n$, $v\\in\\mathbb{R}^n$. _Reverse Mode_ computes $f(\\theta)$ and the vector-jacobian product $v^T\\cdot J_f(\\theta)$ where $v$ is a vector of adjoints.\n",
    "\n",
    "<div align=\"center\"><img alt=\"Backward Step Scheme\" src=\"./src/images/bckStep.png\"></div>\n",
    "\n",
    "We have already got in touch with this during lab sessions, but let's make some basic calculations:\n"
   ]
  },
  {
   "cell_type": "code",
   "execution_count": 5,
   "metadata": {},
   "outputs": [
    {
     "name": "stdout",
     "output_type": "stream",
     "text": [
      "Input: tensor([[-0.8952, -1.4018],\n",
      "        [-1.7978, -0.6120]], device='cuda:0', requires_grad=True)\n",
      "Target: tensor([[-0.5464,  0.9179],\n",
      "        [-0.2331,  0.7059]], device='cuda:0')\n",
      "Prediction: tensor([[0., 0.],\n",
      "        [0., 0.]], device='cuda:0', grad_fn=<ReluBackward0>)\n",
      "Output:  tensor(1.5933, device='cuda:0', grad_fn=<MseLossBackward0>)\n",
      "Gradient: tensor([[-0.4476, -0.7009],\n",
      "        [-0.8989, -0.3060]], device='cuda:0')\n"
     ]
    }
   ],
   "source": [
    "loss = torch.nn.MSELoss()\n",
    "\n",
    "# Inputs and expected predictions\n",
    "input = torch.randn(2, 2, requires_grad=True, device=DEVICE)\n",
    "target = torch.randn(2, 2, device=DEVICE)\n",
    "\n",
    "print(\"Input:\", input)\n",
    "print(\"Target:\", target)\n",
    "\n",
    "# We define a model with a simple activation layer using the relu\n",
    "# function\n",
    "pred = input.relu()\n",
    "print(\"Prediction:\", pred)\n",
    "out = loss(input, pred)\n",
    "print(\"Output: \", out)\n",
    "out.backward()\n",
    "\n",
    "# Gradient\n",
    "print(\"Gradient:\", input.grad)\n"
   ]
  },
  {
   "attachments": {},
   "cell_type": "markdown",
   "metadata": {},
   "source": [
    "# More in depth\n",
    "<div id='id3' />"
   ]
  },
  {
   "attachments": {},
   "cell_type": "markdown",
   "metadata": {},
   "source": [
    "## Forward Gradient Method\n",
    "\n",
    "**Definition.** Given a function $f:\\mathbb{R}^n\\longrightarrow\\mathbb{R}$ we define the \"**forward gradient**\" $g:\\mathbb{R}^n\\longrightarrow\\mathbb{R}^n$ as $g(\\theta)=(\\nabla f(\\theta)\\cdot v)\\hspace{0.1cm}v)$ where $\\theta\\in\\mathbb{R}^n$ is the point at which we are evaluating the gradient and $v\\in\\mathbb{R}^n$ is a perturbation vector taken as a multivariate random variable $v\\sim p(v)$ such that $v_i$ components has _zero mean_ and _unit variance_. So that $\\nabla f(\\theta)\\cdot v$ is the directional derivative of $f$ at point $\\theta$ in direction $v$.\n",
    "\n",
    "So each time we evaluate the **forward gradient**, we simply do the following:\n",
    "\n",
    "- Sample random perturbation vector $v\\sim p(v)$\n",
    "- Evaluate $f(\\theta)$ and $\\nabla f(\\theta)\\cdot v$ simoultaneously in the same single forward step without having to compute $\\nabla f$ at all in the process.\n",
    "- Multiply the scalar directional derivative $\\nabla f(\\theta)\\cdot v$ and obtain $g(\\theta)$, the forward gradient.\n",
    "\n",
    "<div align=\"center\"><img alt=\"Forward Gradient Graph\" src=\"./src/images/graph.png\"></div>\n"
   ]
  },
  {
   "attachments": {},
   "cell_type": "markdown",
   "metadata": {},
   "source": [
    "# Some simple proofs\n",
    "<div id='id4' />\n"
   ]
  },
  {
   "attachments": {},
   "cell_type": "markdown",
   "metadata": {},
   "source": [
    "Let's now make some simple comprobations that will serve us to ensure that both methods obtain the same results. The only difference is that **Backpropagation** is _less time-consuming_ and **Forward Propagation** is _less memory-consuming_.\n",
    "\n",
    "For doing this checking, we use the given files [global_optimization_backprop.py](./src/global_optimization_backprop.py) and [global_optimization_fwdgrad.py](./src/global_optimization_fwdgrad.py) that just take a random tensor of size (2,1) and compute the **Backward Propagation** and the **Forward Propagation** respectively with the hyperparameters previously defined in [global_optim_config.yaml](./src/configs/global_optim_config.yaml):\n",
    "\n",
    "- Random Seed: $42$ _(just to generate the same random tensor in both methods)_\n",
    "- Learning Rate: $10^{-3}$\n",
    "- Iterations: $5000$\n"
   ]
  },
  {
   "attachments": {},
   "cell_type": "markdown",
   "metadata": {},
   "source": [
    "## Backpropagation\n"
   ]
  },
  {
   "cell_type": "code",
   "execution_count": 2,
   "metadata": {},
   "outputs": [
    {
     "name": "stdout",
     "output_type": "stream",
     "text": [
      "Using  NVIDIA GeForce GTX 1050\n",
      "Iteration [1/5000], Loss: 1.8800, Time (s): 1.3740\n",
      "Iteration [200/5000], Loss: 0.0031, Time (s): 0.0015\n",
      "Iteration [399/5000], Loss: 0.0026, Time (s): 0.0018\n",
      "Iteration [598/5000], Loss: 0.0022, Time (s): 0.0013\n",
      "Iteration [797/5000], Loss: 0.0018, Time (s): 0.0016\n",
      "Iteration [996/5000], Loss: 0.0015, Time (s): 0.0013\n",
      "Iteration [1195/5000], Loss: 0.0013, Time (s): 0.0013\n",
      "Iteration [1394/5000], Loss: 0.0011, Time (s): 0.0013\n",
      "Iteration [1593/5000], Loss: 0.0009, Time (s): 0.0013\n",
      "Iteration [1792/5000], Loss: 0.0008, Time (s): 0.0024\n",
      "Iteration [1991/5000], Loss: 0.0007, Time (s): 0.0013\n",
      "Iteration [2190/5000], Loss: 0.0006, Time (s): 0.0011\n",
      "Iteration [2389/5000], Loss: 0.0005, Time (s): 0.0011\n",
      "Iteration [2588/5000], Loss: 0.0004, Time (s): 0.0011\n",
      "Iteration [2787/5000], Loss: 0.0003, Time (s): 0.0013\n",
      "Iteration [2986/5000], Loss: 0.0003, Time (s): 0.0014\n",
      "Iteration [3185/5000], Loss: 0.0002, Time (s): 0.0014\n",
      "Iteration [3384/5000], Loss: 0.0002, Time (s): 0.0013\n",
      "Iteration [3583/5000], Loss: 0.0002, Time (s): 0.0013\n",
      "Iteration [3782/5000], Loss: 0.0002, Time (s): 0.0013\n",
      "Iteration [3981/5000], Loss: 0.0001, Time (s): 0.0013\n",
      "Iteration [4180/5000], Loss: 0.0001, Time (s): 0.0014\n",
      "Iteration [4379/5000], Loss: 0.0001, Time (s): 0.0013\n",
      "Iteration [4578/5000], Loss: 0.0001, Time (s): 0.0013\n",
      "Iteration [4777/5000], Loss: 0.0001, Time (s): 0.0014\n",
      "Iteration [4976/5000], Loss: 0.0001, Time (s): 0.0013\n",
      "Total time: 8.2519\n",
      "Parameters value:\n",
      "\tx: 0.9924673438072205\n",
      "\ty: 0.984961211681366\n"
     ]
    }
   ],
   "source": [
    "!python .\\src\\global_optimization_backprop.py\n"
   ]
  },
  {
   "attachments": {},
   "cell_type": "markdown",
   "metadata": {},
   "source": [
    "## Forward Propagation\n"
   ]
  },
  {
   "cell_type": "code",
   "execution_count": 3,
   "metadata": {},
   "outputs": [
    {
     "name": "stdout",
     "output_type": "stream",
     "text": [
      "Using  NVIDIA GeForce GTX 1050\n",
      "Iteration [1/5000], Loss: 1.8800, Time (s): 1.3802\n",
      "Iteration [200/5000], Loss: 0.0107, Time (s): 0.0023\n",
      "Iteration [399/5000], Loss: 0.0090, Time (s): 0.0018\n",
      "Iteration [598/5000], Loss: 0.0060, Time (s): 0.0028\n",
      "Iteration [797/5000], Loss: 0.0048, Time (s): 0.0017\n",
      "Iteration [996/5000], Loss: 0.0043, Time (s): 0.0017\n",
      "Iteration [1195/5000], Loss: 0.0037, Time (s): 0.0024\n",
      "Iteration [1394/5000], Loss: 0.0023, Time (s): 0.0021\n",
      "Iteration [1593/5000], Loss: 0.0021, Time (s): 0.0016\n",
      "Iteration [1792/5000], Loss: 0.0017, Time (s): 0.0016\n",
      "Iteration [1991/5000], Loss: 0.0015, Time (s): 0.0024\n",
      "Iteration [2190/5000], Loss: 0.0013, Time (s): 0.0025\n",
      "Iteration [2389/5000], Loss: 0.0012, Time (s): 0.0016\n",
      "Iteration [2588/5000], Loss: 0.0010, Time (s): 0.0016\n",
      "Iteration [2787/5000], Loss: 0.0009, Time (s): 0.0024\n",
      "Iteration [2986/5000], Loss: 0.0008, Time (s): 0.0016\n",
      "Iteration [3185/5000], Loss: 0.0006, Time (s): 0.0016\n",
      "Iteration [3384/5000], Loss: 0.0005, Time (s): 0.0023\n",
      "Iteration [3583/5000], Loss: 0.0004, Time (s): 0.0020\n",
      "Iteration [3782/5000], Loss: 0.0004, Time (s): 0.0016\n",
      "Iteration [3981/5000], Loss: 0.0003, Time (s): 0.0016\n",
      "Iteration [4180/5000], Loss: 0.0003, Time (s): 0.0024\n",
      "Iteration [4379/5000], Loss: 0.0002, Time (s): 0.0019\n",
      "Iteration [4578/5000], Loss: 0.0001, Time (s): 0.0017\n",
      "Iteration [4777/5000], Loss: 0.0002, Time (s): 0.0016\n",
      "Iteration [4976/5000], Loss: 0.0001, Time (s): 0.0018\n",
      "Total time: 10.7078\n",
      "Parameters value:\n",
      "\tx: 0.9916718006134033\n",
      "\ty: 0.9829806685447693\n"
     ]
    }
   ],
   "source": [
    "!python .\\src\\global_optimization_fwdgrad.py\n"
   ]
  },
  {
   "attachments": {},
   "cell_type": "markdown",
   "metadata": {},
   "source": [
    "# Real-World Applications\n",
    "<div id='id5' />\n"
   ]
  },
  {
   "attachments": {},
   "cell_type": "markdown",
   "metadata": {},
   "source": [
    "Now that we know how to use these two methods, let's use them with _real-world_ issues. For example, let's use them to build a neural network that classifies the **MNIST dataset**.\n"
   ]
  },
  {
   "attachments": {},
   "cell_type": "markdown",
   "metadata": {},
   "source": [
    "### Downloading the MNIST Dataset\n"
   ]
  },
  {
   "cell_type": "code",
   "execution_count": 8,
   "metadata": {},
   "outputs": [],
   "source": [
    "import torchvision.datasets as datasets\n",
    "from torchvision.transforms import ToTensor\n",
    "\n",
    "\n",
    "def download_mnist():\n",
    "    train_data = datasets.MNIST(\n",
    "        root=\"./src/datasets\",\n",
    "        download=True,\n",
    "        train=True,\n",
    "        transform=ToTensor(),\n",
    "    )\n",
    "\n",
    "    target_data = datasets.MNIST(\n",
    "        root=\"./src/datasets\",\n",
    "        download=True,\n",
    "        train=False,\n",
    "        transform=ToTensor()\n",
    "    )\n",
    "\n",
    "    return train_data, target_data\n"
   ]
  },
  {
   "cell_type": "code",
   "execution_count": 9,
   "metadata": {},
   "outputs": [
    {
     "name": "stdout",
     "output_type": "stream",
     "text": [
      "MNIST dataset downloaded\n"
     ]
    }
   ],
   "source": [
    "# Now let's download the dataset\n",
    "\n",
    "train_data, target_data = download_mnist()\n",
    "print(\"MNIST dataset downloaded\")\n"
   ]
  },
  {
   "attachments": {},
   "cell_type": "markdown",
   "metadata": {},
   "source": [
    "It's also important to observe the data size and type before starting with the calculations:\n"
   ]
  },
  {
   "cell_type": "code",
   "execution_count": 10,
   "metadata": {},
   "outputs": [
    {
     "name": "stdout",
     "output_type": "stream",
     "text": [
      "Training data: torch.Size([60000, 28, 28]) torch.ByteTensor\n",
      "  Target data: torch.Size([10000, 28, 28]) torch.ByteTensor\n"
     ]
    }
   ],
   "source": [
    "print(f\"Training data: {train_data.data.shape} {train_data.data.type()}\")\n",
    "print(f\"  Target data: {target_data.data.shape} {target_data.data.type()}\")\n"
   ]
  },
  {
   "attachments": {},
   "cell_type": "markdown",
   "metadata": {},
   "source": [
    "### Defining a Data Loader\n",
    "\n",
    "Once we have downloaded the dataset, let's design a **Data Loader** just for preparing the batches for the training.\n"
   ]
  },
  {
   "cell_type": "code",
   "execution_count": 11,
   "metadata": {},
   "outputs": [],
   "source": [
    "from torch.utils.data import DataLoader\n",
    "\n",
    "BATCHSIZE = 128\n",
    "NUMWORKERS = 8\n",
    "train_data_loader = DataLoader(\n",
    "    train_data,\n",
    "    batch_size=BATCHSIZE,\n",
    "    num_workers=NUMWORKERS,\n",
    "    shuffle=True\n",
    ")\n",
    "\n",
    "test_data_loader = DataLoader(\n",
    "    target_data,\n",
    "    batch_size=BATCHSIZE,\n",
    "    num_workers=NUMWORKERS,\n",
    "    shuffle=True\n",
    ")\n"
   ]
  },
  {
   "attachments": {},
   "cell_type": "markdown",
   "metadata": {},
   "source": [
    "Let's observe how does the batching works:"
   ]
  },
  {
   "cell_type": "code",
   "execution_count": 12,
   "metadata": {},
   "outputs": [
    {
     "name": "stdout",
     "output_type": "stream",
     "text": [
      "Inputs:  torch.Size([128, 1, 28, 28])\n",
      "Targets:  torch.Size([128])  ===  [6, 6, 7, 3, 4, 6, 8, 9, 2, 5, 4, 6, 6, 9, 8, 6, 5, 3, 3, 9, 2, 9, 5, 6, 8, 0, 4, 2, 1, 8, 7, 3, 2, 0, 5, 4, 1, 8, 5, 9, 2, 8, 8, 5, 9, 0, 0, 0, 5, 7, 4, 8, 5, 1, 0, 8, 3, 5, 9, 2, 6, 5, 8, 3, 9, 8, 4, 4, 6, 0, 0, 7, 6, 4, 9, 8, 1, 4, 0, 5, 0, 6, 5, 7, 8, 1, 5, 2, 6, 0, 8, 4, 9, 8, 1, 0, 6, 6, 9, 9, 5, 6, 4, 7, 6, 8, 0, 2, 1, 0, 8, 5, 4, 8, 7, 1, 9, 2, 6, 8, 8, 0, 6, 8, 9, 1, 2, 2]\n"
     ]
    }
   ],
   "source": [
    "for inputs, targets in train_data_loader:\n",
    "    print(\"Inputs: \", inputs.shape)\n",
    "    print(\"Targets: \", targets.shape, \" === \", targets.tolist())\n",
    "    break"
   ]
  },
  {
   "attachments": {},
   "cell_type": "markdown",
   "metadata": {},
   "source": [
    "### Defining Fixed Parameters"
   ]
  },
  {
   "cell_type": "code",
   "execution_count": 13,
   "metadata": {},
   "outputs": [],
   "source": [
    "def newParameters(device):\n",
    "    return [\n",
    "        torch.FloatTensor(28*28, 128).uniform_(-1,1),\n",
    "        torch.FloatTensor(128).uniform_(-1,1),\n",
    "        torch.FloatTensor(128, 64).uniform_(-1,1),\n",
    "        torch.FloatTensor(64).uniform_(-1,1),\n",
    "        torch.FloatTensor(64, 10).uniform_(-1,1),\n",
    "        torch.FloatTensor(10).uniform_(-1,1)\n",
    "    ]\n",
    "\n",
    "params_fixed = newParameters(DEVICE)\n",
    "params_proof = deepcopy(params_fixed)\n",
    "params_back = deepcopy(params_fixed)\n",
    "params_fwd = deepcopy(params_fixed)"
   ]
  },
  {
   "attachments": {},
   "cell_type": "markdown",
   "metadata": {},
   "source": [
    "### Building the model\n",
    "\n",
    "Then we create our Neural Network that inherits `torch.nn`:\n"
   ]
  },
  {
   "cell_type": "code",
   "execution_count": 14,
   "metadata": {},
   "outputs": [],
   "source": [
    "from torch import nn\n",
    "\n",
    "class MultiLayer(nn.Module):\n",
    "    def __init__(self, params, device) -> None:\n",
    "        super().__init__()\n",
    "\n",
    "        self.relu = nn.ReLU()\n",
    "        self.flatten = nn.Flatten()\n",
    "        self.softmax = nn.Softmax(1)\n",
    "\n",
    "        self.w1 = nn.Parameter(params[0].requires_grad_(True).to(device))\n",
    "        self.b1 = nn.Parameter(params[1].requires_grad_(True).to(device))\n",
    "\n",
    "        self.w2 = nn.Parameter(params[2].requires_grad_(True).to(device))\n",
    "        self.b2 = nn.Parameter(params[3].requires_grad_(True).to(device))\n",
    "        \n",
    "        self.w3 = nn.Parameter(params[4].requires_grad_(True).to(device))\n",
    "        self.b3 = nn.Parameter(params[5].requires_grad_(True).to(device))\n",
    "        \n",
    "\n",
    "    def forward(self, input_data) -> torch.Tensor:\n",
    "        flat_data = self.flatten(input_data)\n",
    "        x = self.relu(flat_data @ self.w1 + self.b1)\n",
    "        x = self.relu(x @ self.w2 + self.b2)\n",
    "        x = self.relu(x @ self.w3 + self.b3)\n",
    "        return self.softmax(x)\n"
   ]
  },
  {
   "attachments": {},
   "cell_type": "markdown",
   "metadata": {},
   "source": [
    "And now we define some other necessary functions:"
   ]
  },
  {
   "cell_type": "code",
   "execution_count": 15,
   "metadata": {},
   "outputs": [],
   "source": [
    "# A function to compute losses\n",
    "def cross_entropy(predictions, targets):\n",
    "  return torch.abs(torch.gather(predictions + 1e-15 ,0,targets.reshape(-1,1)).log().mean())\n",
    "\n",
    "# A function to compute accuracy\n",
    "def accuracy(ypred, ytrue):\n",
    "  return (ypred.argmax(1) == ytrue).float().mean()"
   ]
  },
  {
   "attachments": {},
   "cell_type": "markdown",
   "metadata": {},
   "source": [
    "Let's do some proofs:"
   ]
  },
  {
   "cell_type": "code",
   "execution_count": 16,
   "metadata": {},
   "outputs": [
    {
     "name": "stdout",
     "output_type": "stream",
     "text": [
      "Loss:  tensor(23.1296, device='cuda:0', grad_fn=<AbsBackward0>)\n",
      "torch.Size([784, 128])\n",
      "torch.Size([128])\n",
      "torch.Size([128, 64])\n",
      "torch.Size([64])\n",
      "torch.Size([64, 10])\n",
      "Grad: torch.Size([10])  ===  tensor([-5.5202e-02,  1.7505e-24,  0.0000e+00,  1.2167e-19,  1.7795e-14,\n",
      "         5.5208e-02,  1.1039e-15,  1.3663e-38,  1.0089e-18,  7.5503e-10],\n",
      "       device='cuda:0')\n"
     ]
    }
   ],
   "source": [
    "# We initialize an instance of the previously defined network\n",
    "mnn = MultiLayer(params_proof, DEVICE).to(DEVICE)\n",
    "LR = 1e4\n",
    "\n",
    "# We try our model with some first examples (one batch of size BATCHSIZE)\n",
    "loss_fn = cross_entropy\n",
    "\n",
    "for batch in train_data_loader:\n",
    "\n",
    "    w1, b1, w2, b2, w3, b3 = list(mnn.parameters())\n",
    "\n",
    "    inputs = batch[0].to(DEVICE).requires_grad_(True)\n",
    "    targets = batch[1].to(DEVICE)\n",
    "\n",
    "    predictions = mnn(inputs)\n",
    "\n",
    "    loss = loss_fn(predictions, targets)\n",
    "    print(\"Loss: \", loss)\n",
    "\n",
    "    grads = torch.autograd.grad(loss,[w1, b1, w2, b2, w3, b3])\n",
    "\n",
    "    [w1, b1, w2, b2, w3, b3] = list(mnn.parameters())\n",
    "\n",
    "    with torch.no_grad():\n",
    "\n",
    "        # Apply gradients\n",
    "        w1 -= LR * grads[0]\n",
    "        b1 -= LR * grads[1]\n",
    "\n",
    "        w2 -= LR * grads[2]\n",
    "        b2 -= LR * grads[3]\n",
    "        \n",
    "        w3 -= LR * grads[4]\n",
    "        b3 -= LR * grads[5] \n",
    "\n",
    "        print(grads[0].shape)\n",
    "        print(grads[1].shape)\n",
    "        print(grads[2].shape)\n",
    "        print(grads[3].shape)\n",
    "        print(grads[4].shape)\n",
    "        print(\"Grad:\", grads[5].shape, \" === \", grads[5])\n",
    "\n",
    "        # We reasign the new values to the parameters of the model:\n",
    "        mnn.register_parameter(\"w1\",w1)\n",
    "        mnn.register_parameter(\"b1\",b1)\n",
    "\n",
    "        mnn.register_parameter(\"w2\",w2)\n",
    "        mnn.register_parameter(\"b2\",b2)\n",
    "\n",
    "        mnn.register_parameter(\"w3\",w3)\n",
    "        mnn.register_parameter(\"b3\",b3)\n",
    "\n",
    "    break"
   ]
  },
  {
   "attachments": {},
   "cell_type": "markdown",
   "metadata": {},
   "source": [
    "We observe that the **params_fixed** nor **params_proof** have changed. We have to check the **model.parameters()** if we want to see any perturbation on the parameters. "
   ]
  },
  {
   "cell_type": "code",
   "execution_count": 17,
   "metadata": {},
   "outputs": [
    {
     "name": "stdout",
     "output_type": "stream",
     "text": [
      "tensor([ 0.5572, -0.1533,  0.7738, -0.6838, -0.5911,  0.4563, -0.6349, -0.6991,\n",
      "        -0.9567, -0.3491])\n",
      "tensor([ 0.5572, -0.1533,  0.7738, -0.6838, -0.5911,  0.4563, -0.6349, -0.6991,\n",
      "        -0.9567, -0.3491], requires_grad=True)\n",
      "Parameter containing:\n",
      "tensor([ 5.5258e+02, -1.5334e-01,  7.7376e-01, -6.8380e-01, -5.9108e-01,\n",
      "        -5.5163e+02, -6.3487e-01, -6.9913e-01, -9.5667e-01, -3.4907e-01],\n",
      "       device='cuda:0', requires_grad=True)\n"
     ]
    }
   ],
   "source": [
    "print(params_fixed[5])\n",
    "print(params_proof[5])\n",
    "print(list(mnn.parameters())[5])"
   ]
  },
  {
   "attachments": {},
   "cell_type": "markdown",
   "metadata": {},
   "source": [
    "### Backpropagation"
   ]
  },
  {
   "attachments": {},
   "cell_type": "markdown",
   "metadata": {},
   "source": [
    "#### Training the model\n",
    "\n",
    "We now code the training loop for brackpropagation:\n",
    "\n",
    "- `BackTrain`\n"
   ]
  },
  {
   "cell_type": "code",
   "execution_count": 18,
   "metadata": {},
   "outputs": [],
   "source": [
    "def BackEpoch(model, data_loader, loss_fn, acc_fn, learning_rate, device):\n",
    "    # Initialize some auxiliar variables\n",
    "    lossesEpoch = []\n",
    "    accuraciesEpoch = []\n",
    "\n",
    "    # Start time of the Epoch\n",
    "    t0 = time.perf_counter()\n",
    "\n",
    "    for it, batch in enumerate(data_loader): \n",
    "\n",
    "        inputs = batch[0].to(device).requires_grad_(True)\n",
    "        targets = batch[1].to(device)\n",
    "        \n",
    "        # We predict the inputs\n",
    "        predictions = model(inputs)\n",
    "        \n",
    "        # Calculate Loss\n",
    "        loss = loss_fn(predictions, targets)\n",
    "        lossesEpoch.append(loss.item())\n",
    "\n",
    "        # Calculate Accuracy\n",
    "        acc = acc_fn(predictions, targets)\n",
    "        accuraciesEpoch.append(acc.item()*10e2)\n",
    "\n",
    "        # BackPropagate Loss and Update Parameters\n",
    "        grads = torch.autograd.grad(loss, list(model.parameters()))\n",
    "\n",
    "        with torch.no_grad():\n",
    "\n",
    "            for (name, param), grad in zip(list(model.named_parameters()), grads):\n",
    "\n",
    "                param -= learning_rate * grad\n",
    "                model.register_parameter(name,param)           \n",
    "    \n",
    "    # End time of the Epoch\n",
    "    t1 = time.perf_counter()\n",
    "    \n",
    "    # Let's plot the losses and the Epoch Results\n",
    "    meanLoss = sum(lossesEpoch)/len(lossesEpoch)\n",
    "    meanAcc = sum(accuraciesEpoch)/len(accuraciesEpoch)\n",
    "    print(f\"    Loss: {meanLoss:.4f}\")\n",
    "    print(f\"Accuracy: {meanAcc:.1f}%\")\n",
    "    print(f\"    Time: {t1-t0:.4f} s\")\n",
    "\n",
    "    return meanLoss, meanAcc\n"
   ]
  },
  {
   "cell_type": "code",
   "execution_count": 19,
   "metadata": {},
   "outputs": [],
   "source": [
    "def BackTrain(model, data_loader, loss_fn, acc_fn, learning_rate, device, epochs=25, control=True) -> None:\n",
    "    print(\"=== === === === === === === === === === === ===\")\n",
    "    print(\"Using\", torch.cuda.get_device_name(device))\n",
    "\n",
    "    losses = []\n",
    "    accuracies = []\n",
    "\n",
    "    if control:\n",
    "        for i in range(epochs):\n",
    "            print(f\"---------------- EPOCH {i+1} -------------------\")\n",
    "\n",
    "            losses.append(\n",
    "                BackEpoch(\n",
    "                model=model,\n",
    "                data_loader=data_loader,\n",
    "                loss_fn=loss_fn,\n",
    "                acc_fn=acc_fn,\n",
    "                learning_rate=learning_rate,\n",
    "                device=device)\n",
    "            )\n",
    "    else:\n",
    "        loss = 1\n",
    "        i=0\n",
    "        while loss > 1e-4 and i < epochs:\n",
    "            print(f\"---------------- EPOCH {i+1} -------------------\")\n",
    "\n",
    "            \n",
    "            loss, acc = BackEpoch(\n",
    "                model=model,\n",
    "                data_loader=data_loader,\n",
    "                loss_fn=loss_fn,\n",
    "                acc_fn=acc_fn,\n",
    "                learning_rate=learning_rate,\n",
    "                device=device)\n",
    "            \n",
    "            losses.append(loss)\n",
    "            accuracies.append(acc)\n",
    "            i += 1\n",
    "        \n",
    "    plt.plot(losses)\n",
    "    plt.show()\n",
    "    plt.plot(accuracies)\n",
    "    plt.show()\n",
    "    print(\"-------------------------------------------------\") \n",
    "    print(\"Training Finished\")\n",
    "    print(\"=== === === === === === === === === === === ===\")"
   ]
  },
  {
   "cell_type": "code",
   "execution_count": 20,
   "metadata": {},
   "outputs": [
    {
     "name": "stdout",
     "output_type": "stream",
     "text": [
      "=== === === === === === === === === === === ===\n",
      "Using NVIDIA GeForce GTX 1050\n",
      "---------------- EPOCH 1 -------------------\n",
      "    Loss: 21.7666\n",
      "Accuracy: 116.4%\n",
      "    Time: 7.0078 s\n",
      "---------------- EPOCH 2 -------------------\n",
      "    Loss: 3.7668\n",
      "Accuracy: 103.2%\n",
      "    Time: 6.9870 s\n",
      "---------------- EPOCH 3 -------------------\n",
      "    Loss: 2.3026\n",
      "Accuracy: 98.7%\n",
      "    Time: 7.4572 s\n",
      "---------------- EPOCH 4 -------------------\n",
      "    Loss: 2.3026\n",
      "Accuracy: 98.7%\n",
      "    Time: 7.1320 s\n",
      "---------------- EPOCH 5 -------------------\n",
      "    Loss: 2.3026\n",
      "Accuracy: 98.7%\n",
      "    Time: 7.0662 s\n",
      "---------------- EPOCH 6 -------------------\n",
      "    Loss: 2.3026\n",
      "Accuracy: 98.7%\n",
      "    Time: 7.1375 s\n",
      "---------------- EPOCH 7 -------------------\n"
     ]
    },
    {
     "ename": "KeyboardInterrupt",
     "evalue": "",
     "output_type": "error",
     "traceback": [
      "\u001b[1;31m---------------------------------------------------------------------------\u001b[0m",
      "\u001b[1;31mKeyboardInterrupt\u001b[0m                         Traceback (most recent call last)",
      "\u001b[1;32m~\\AppData\\Local\\Temp\\ipykernel_15884\\2289638779.py\u001b[0m in \u001b[0;36m<module>\u001b[1;34m\u001b[0m\n\u001b[0;32m      8\u001b[0m \u001b[0mBack_NeuralNetwork\u001b[0m \u001b[1;33m=\u001b[0m \u001b[0mMultiLayer\u001b[0m\u001b[1;33m(\u001b[0m\u001b[0mparams_back\u001b[0m\u001b[1;33m,\u001b[0m \u001b[0mDEVICE\u001b[0m\u001b[1;33m)\u001b[0m\u001b[1;33m.\u001b[0m\u001b[0mto\u001b[0m\u001b[1;33m(\u001b[0m\u001b[0mDEVICE\u001b[0m\u001b[1;33m)\u001b[0m\u001b[1;33m\u001b[0m\u001b[1;33m\u001b[0m\u001b[0m\n\u001b[0;32m      9\u001b[0m \u001b[1;33m\u001b[0m\u001b[0m\n\u001b[1;32m---> 10\u001b[1;33m BackTrain(\n\u001b[0m\u001b[0;32m     11\u001b[0m     \u001b[0mmodel\u001b[0m\u001b[1;33m=\u001b[0m\u001b[0mBack_NeuralNetwork\u001b[0m\u001b[1;33m,\u001b[0m\u001b[1;33m\u001b[0m\u001b[1;33m\u001b[0m\u001b[0m\n\u001b[0;32m     12\u001b[0m     \u001b[0mdata_loader\u001b[0m\u001b[1;33m=\u001b[0m\u001b[0mtrain_data_loader\u001b[0m\u001b[1;33m,\u001b[0m\u001b[1;33m\u001b[0m\u001b[1;33m\u001b[0m\u001b[0m\n",
      "\u001b[1;32m~\\AppData\\Local\\Temp\\ipykernel_15884\\3544251013.py\u001b[0m in \u001b[0;36mBackTrain\u001b[1;34m(model, data_loader, loss_fn, acc_fn, learning_rate, device, epochs, control)\u001b[0m\n\u001b[0;32m     26\u001b[0m \u001b[1;33m\u001b[0m\u001b[0m\n\u001b[0;32m     27\u001b[0m \u001b[1;33m\u001b[0m\u001b[0m\n\u001b[1;32m---> 28\u001b[1;33m             loss, acc = BackEpoch(\n\u001b[0m\u001b[0;32m     29\u001b[0m                 \u001b[0mmodel\u001b[0m\u001b[1;33m=\u001b[0m\u001b[0mmodel\u001b[0m\u001b[1;33m,\u001b[0m\u001b[1;33m\u001b[0m\u001b[1;33m\u001b[0m\u001b[0m\n\u001b[0;32m     30\u001b[0m                 \u001b[0mdata_loader\u001b[0m\u001b[1;33m=\u001b[0m\u001b[0mdata_loader\u001b[0m\u001b[1;33m,\u001b[0m\u001b[1;33m\u001b[0m\u001b[1;33m\u001b[0m\u001b[0m\n",
      "\u001b[1;32m~\\AppData\\Local\\Temp\\ipykernel_15884\\2873950353.py\u001b[0m in \u001b[0;36mBackEpoch\u001b[1;34m(model, data_loader, loss_fn, acc_fn, learning_rate, device)\u001b[0m\n\u001b[0;32m      7\u001b[0m     \u001b[0mt0\u001b[0m \u001b[1;33m=\u001b[0m \u001b[0mtime\u001b[0m\u001b[1;33m.\u001b[0m\u001b[0mperf_counter\u001b[0m\u001b[1;33m(\u001b[0m\u001b[1;33m)\u001b[0m\u001b[1;33m\u001b[0m\u001b[1;33m\u001b[0m\u001b[0m\n\u001b[0;32m      8\u001b[0m \u001b[1;33m\u001b[0m\u001b[0m\n\u001b[1;32m----> 9\u001b[1;33m     \u001b[1;32mfor\u001b[0m \u001b[0mit\u001b[0m\u001b[1;33m,\u001b[0m \u001b[0mbatch\u001b[0m \u001b[1;32min\u001b[0m \u001b[0menumerate\u001b[0m\u001b[1;33m(\u001b[0m\u001b[0mdata_loader\u001b[0m\u001b[1;33m)\u001b[0m\u001b[1;33m:\u001b[0m\u001b[1;33m\u001b[0m\u001b[1;33m\u001b[0m\u001b[0m\n\u001b[0m\u001b[0;32m     10\u001b[0m \u001b[1;33m\u001b[0m\u001b[0m\n\u001b[0;32m     11\u001b[0m         \u001b[0minputs\u001b[0m \u001b[1;33m=\u001b[0m \u001b[0mbatch\u001b[0m\u001b[1;33m[\u001b[0m\u001b[1;36m0\u001b[0m\u001b[1;33m]\u001b[0m\u001b[1;33m.\u001b[0m\u001b[0mto\u001b[0m\u001b[1;33m(\u001b[0m\u001b[0mdevice\u001b[0m\u001b[1;33m)\u001b[0m\u001b[1;33m.\u001b[0m\u001b[0mrequires_grad_\u001b[0m\u001b[1;33m(\u001b[0m\u001b[1;32mTrue\u001b[0m\u001b[1;33m)\u001b[0m\u001b[1;33m\u001b[0m\u001b[1;33m\u001b[0m\u001b[0m\n",
      "\u001b[1;32mc:\\Users\\naxet\\anaconda3\\lib\\site-packages\\torch\\utils\\data\\dataloader.py\u001b[0m in \u001b[0;36m__next__\u001b[1;34m(self)\u001b[0m\n\u001b[0;32m    626\u001b[0m                 \u001b[1;31m# TODO(https://github.com/pytorch/pytorch/issues/76750)\u001b[0m\u001b[1;33m\u001b[0m\u001b[1;33m\u001b[0m\u001b[0m\n\u001b[0;32m    627\u001b[0m                 \u001b[0mself\u001b[0m\u001b[1;33m.\u001b[0m\u001b[0m_reset\u001b[0m\u001b[1;33m(\u001b[0m\u001b[1;33m)\u001b[0m  \u001b[1;31m# type: ignore[call-arg]\u001b[0m\u001b[1;33m\u001b[0m\u001b[1;33m\u001b[0m\u001b[0m\n\u001b[1;32m--> 628\u001b[1;33m             \u001b[0mdata\u001b[0m \u001b[1;33m=\u001b[0m \u001b[0mself\u001b[0m\u001b[1;33m.\u001b[0m\u001b[0m_next_data\u001b[0m\u001b[1;33m(\u001b[0m\u001b[1;33m)\u001b[0m\u001b[1;33m\u001b[0m\u001b[1;33m\u001b[0m\u001b[0m\n\u001b[0m\u001b[0;32m    629\u001b[0m             \u001b[0mself\u001b[0m\u001b[1;33m.\u001b[0m\u001b[0m_num_yielded\u001b[0m \u001b[1;33m+=\u001b[0m \u001b[1;36m1\u001b[0m\u001b[1;33m\u001b[0m\u001b[1;33m\u001b[0m\u001b[0m\n\u001b[0;32m    630\u001b[0m             \u001b[1;32mif\u001b[0m \u001b[0mself\u001b[0m\u001b[1;33m.\u001b[0m\u001b[0m_dataset_kind\u001b[0m \u001b[1;33m==\u001b[0m \u001b[0m_DatasetKind\u001b[0m\u001b[1;33m.\u001b[0m\u001b[0mIterable\u001b[0m \u001b[1;32mand\u001b[0m\u001b[0;31m \u001b[0m\u001b[0;31m\\\u001b[0m\u001b[1;33m\u001b[0m\u001b[1;33m\u001b[0m\u001b[0m\n",
      "\u001b[1;32mc:\\Users\\naxet\\anaconda3\\lib\\site-packages\\torch\\utils\\data\\dataloader.py\u001b[0m in \u001b[0;36m_next_data\u001b[1;34m(self)\u001b[0m\n\u001b[0;32m   1314\u001b[0m \u001b[1;33m\u001b[0m\u001b[0m\n\u001b[0;32m   1315\u001b[0m             \u001b[1;32massert\u001b[0m \u001b[1;32mnot\u001b[0m \u001b[0mself\u001b[0m\u001b[1;33m.\u001b[0m\u001b[0m_shutdown\u001b[0m \u001b[1;32mand\u001b[0m \u001b[0mself\u001b[0m\u001b[1;33m.\u001b[0m\u001b[0m_tasks_outstanding\u001b[0m \u001b[1;33m>\u001b[0m \u001b[1;36m0\u001b[0m\u001b[1;33m\u001b[0m\u001b[1;33m\u001b[0m\u001b[0m\n\u001b[1;32m-> 1316\u001b[1;33m             \u001b[0midx\u001b[0m\u001b[1;33m,\u001b[0m \u001b[0mdata\u001b[0m \u001b[1;33m=\u001b[0m \u001b[0mself\u001b[0m\u001b[1;33m.\u001b[0m\u001b[0m_get_data\u001b[0m\u001b[1;33m(\u001b[0m\u001b[1;33m)\u001b[0m\u001b[1;33m\u001b[0m\u001b[1;33m\u001b[0m\u001b[0m\n\u001b[0m\u001b[0;32m   1317\u001b[0m             \u001b[0mself\u001b[0m\u001b[1;33m.\u001b[0m\u001b[0m_tasks_outstanding\u001b[0m \u001b[1;33m-=\u001b[0m \u001b[1;36m1\u001b[0m\u001b[1;33m\u001b[0m\u001b[1;33m\u001b[0m\u001b[0m\n\u001b[0;32m   1318\u001b[0m             \u001b[1;32mif\u001b[0m \u001b[0mself\u001b[0m\u001b[1;33m.\u001b[0m\u001b[0m_dataset_kind\u001b[0m \u001b[1;33m==\u001b[0m \u001b[0m_DatasetKind\u001b[0m\u001b[1;33m.\u001b[0m\u001b[0mIterable\u001b[0m\u001b[1;33m:\u001b[0m\u001b[1;33m\u001b[0m\u001b[1;33m\u001b[0m\u001b[0m\n",
      "\u001b[1;32mc:\\Users\\naxet\\anaconda3\\lib\\site-packages\\torch\\utils\\data\\dataloader.py\u001b[0m in \u001b[0;36m_get_data\u001b[1;34m(self)\u001b[0m\n\u001b[0;32m   1280\u001b[0m         \u001b[1;32melse\u001b[0m\u001b[1;33m:\u001b[0m\u001b[1;33m\u001b[0m\u001b[1;33m\u001b[0m\u001b[0m\n\u001b[0;32m   1281\u001b[0m             \u001b[1;32mwhile\u001b[0m \u001b[1;32mTrue\u001b[0m\u001b[1;33m:\u001b[0m\u001b[1;33m\u001b[0m\u001b[1;33m\u001b[0m\u001b[0m\n\u001b[1;32m-> 1282\u001b[1;33m                 \u001b[0msuccess\u001b[0m\u001b[1;33m,\u001b[0m \u001b[0mdata\u001b[0m \u001b[1;33m=\u001b[0m \u001b[0mself\u001b[0m\u001b[1;33m.\u001b[0m\u001b[0m_try_get_data\u001b[0m\u001b[1;33m(\u001b[0m\u001b[1;33m)\u001b[0m\u001b[1;33m\u001b[0m\u001b[1;33m\u001b[0m\u001b[0m\n\u001b[0m\u001b[0;32m   1283\u001b[0m                 \u001b[1;32mif\u001b[0m \u001b[0msuccess\u001b[0m\u001b[1;33m:\u001b[0m\u001b[1;33m\u001b[0m\u001b[1;33m\u001b[0m\u001b[0m\n\u001b[0;32m   1284\u001b[0m                     \u001b[1;32mreturn\u001b[0m \u001b[0mdata\u001b[0m\u001b[1;33m\u001b[0m\u001b[1;33m\u001b[0m\u001b[0m\n",
      "\u001b[1;32mc:\\Users\\naxet\\anaconda3\\lib\\site-packages\\torch\\utils\\data\\dataloader.py\u001b[0m in \u001b[0;36m_try_get_data\u001b[1;34m(self, timeout)\u001b[0m\n\u001b[0;32m   1118\u001b[0m         \u001b[1;31m#   (bool: whether successfully get data, any: data if successful else None)\u001b[0m\u001b[1;33m\u001b[0m\u001b[1;33m\u001b[0m\u001b[0m\n\u001b[0;32m   1119\u001b[0m         \u001b[1;32mtry\u001b[0m\u001b[1;33m:\u001b[0m\u001b[1;33m\u001b[0m\u001b[1;33m\u001b[0m\u001b[0m\n\u001b[1;32m-> 1120\u001b[1;33m             \u001b[0mdata\u001b[0m \u001b[1;33m=\u001b[0m \u001b[0mself\u001b[0m\u001b[1;33m.\u001b[0m\u001b[0m_data_queue\u001b[0m\u001b[1;33m.\u001b[0m\u001b[0mget\u001b[0m\u001b[1;33m(\u001b[0m\u001b[0mtimeout\u001b[0m\u001b[1;33m=\u001b[0m\u001b[0mtimeout\u001b[0m\u001b[1;33m)\u001b[0m\u001b[1;33m\u001b[0m\u001b[1;33m\u001b[0m\u001b[0m\n\u001b[0m\u001b[0;32m   1121\u001b[0m             \u001b[1;32mreturn\u001b[0m \u001b[1;33m(\u001b[0m\u001b[1;32mTrue\u001b[0m\u001b[1;33m,\u001b[0m \u001b[0mdata\u001b[0m\u001b[1;33m)\u001b[0m\u001b[1;33m\u001b[0m\u001b[1;33m\u001b[0m\u001b[0m\n\u001b[0;32m   1122\u001b[0m         \u001b[1;32mexcept\u001b[0m \u001b[0mException\u001b[0m \u001b[1;32mas\u001b[0m \u001b[0me\u001b[0m\u001b[1;33m:\u001b[0m\u001b[1;33m\u001b[0m\u001b[1;33m\u001b[0m\u001b[0m\n",
      "\u001b[1;32mc:\\Users\\naxet\\anaconda3\\lib\\multiprocessing\\queues.py\u001b[0m in \u001b[0;36mget\u001b[1;34m(self, block, timeout)\u001b[0m\n\u001b[0;32m    111\u001b[0m                 \u001b[1;32mif\u001b[0m \u001b[0mblock\u001b[0m\u001b[1;33m:\u001b[0m\u001b[1;33m\u001b[0m\u001b[1;33m\u001b[0m\u001b[0m\n\u001b[0;32m    112\u001b[0m                     \u001b[0mtimeout\u001b[0m \u001b[1;33m=\u001b[0m \u001b[0mdeadline\u001b[0m \u001b[1;33m-\u001b[0m \u001b[0mtime\u001b[0m\u001b[1;33m.\u001b[0m\u001b[0mmonotonic\u001b[0m\u001b[1;33m(\u001b[0m\u001b[1;33m)\u001b[0m\u001b[1;33m\u001b[0m\u001b[1;33m\u001b[0m\u001b[0m\n\u001b[1;32m--> 113\u001b[1;33m                     \u001b[1;32mif\u001b[0m \u001b[1;32mnot\u001b[0m \u001b[0mself\u001b[0m\u001b[1;33m.\u001b[0m\u001b[0m_poll\u001b[0m\u001b[1;33m(\u001b[0m\u001b[0mtimeout\u001b[0m\u001b[1;33m)\u001b[0m\u001b[1;33m:\u001b[0m\u001b[1;33m\u001b[0m\u001b[1;33m\u001b[0m\u001b[0m\n\u001b[0m\u001b[0;32m    114\u001b[0m                         \u001b[1;32mraise\u001b[0m \u001b[0mEmpty\u001b[0m\u001b[1;33m\u001b[0m\u001b[1;33m\u001b[0m\u001b[0m\n\u001b[0;32m    115\u001b[0m                 \u001b[1;32melif\u001b[0m \u001b[1;32mnot\u001b[0m \u001b[0mself\u001b[0m\u001b[1;33m.\u001b[0m\u001b[0m_poll\u001b[0m\u001b[1;33m(\u001b[0m\u001b[1;33m)\u001b[0m\u001b[1;33m:\u001b[0m\u001b[1;33m\u001b[0m\u001b[1;33m\u001b[0m\u001b[0m\n",
      "\u001b[1;32mc:\\Users\\naxet\\anaconda3\\lib\\multiprocessing\\connection.py\u001b[0m in \u001b[0;36mpoll\u001b[1;34m(self, timeout)\u001b[0m\n\u001b[0;32m    260\u001b[0m         \u001b[0mself\u001b[0m\u001b[1;33m.\u001b[0m\u001b[0m_check_closed\u001b[0m\u001b[1;33m(\u001b[0m\u001b[1;33m)\u001b[0m\u001b[1;33m\u001b[0m\u001b[1;33m\u001b[0m\u001b[0m\n\u001b[0;32m    261\u001b[0m         \u001b[0mself\u001b[0m\u001b[1;33m.\u001b[0m\u001b[0m_check_readable\u001b[0m\u001b[1;33m(\u001b[0m\u001b[1;33m)\u001b[0m\u001b[1;33m\u001b[0m\u001b[1;33m\u001b[0m\u001b[0m\n\u001b[1;32m--> 262\u001b[1;33m         \u001b[1;32mreturn\u001b[0m \u001b[0mself\u001b[0m\u001b[1;33m.\u001b[0m\u001b[0m_poll\u001b[0m\u001b[1;33m(\u001b[0m\u001b[0mtimeout\u001b[0m\u001b[1;33m)\u001b[0m\u001b[1;33m\u001b[0m\u001b[1;33m\u001b[0m\u001b[0m\n\u001b[0m\u001b[0;32m    263\u001b[0m \u001b[1;33m\u001b[0m\u001b[0m\n\u001b[0;32m    264\u001b[0m     \u001b[1;32mdef\u001b[0m \u001b[0m__enter__\u001b[0m\u001b[1;33m(\u001b[0m\u001b[0mself\u001b[0m\u001b[1;33m)\u001b[0m\u001b[1;33m:\u001b[0m\u001b[1;33m\u001b[0m\u001b[1;33m\u001b[0m\u001b[0m\n",
      "\u001b[1;32mc:\\Users\\naxet\\anaconda3\\lib\\multiprocessing\\connection.py\u001b[0m in \u001b[0;36m_poll\u001b[1;34m(self, timeout)\u001b[0m\n\u001b[0;32m    333\u001b[0m                         _winapi.PeekNamedPipe(self._handle)[0] != 0):\n\u001b[0;32m    334\u001b[0m                 \u001b[1;32mreturn\u001b[0m \u001b[1;32mTrue\u001b[0m\u001b[1;33m\u001b[0m\u001b[1;33m\u001b[0m\u001b[0m\n\u001b[1;32m--> 335\u001b[1;33m             \u001b[1;32mreturn\u001b[0m \u001b[0mbool\u001b[0m\u001b[1;33m(\u001b[0m\u001b[0mwait\u001b[0m\u001b[1;33m(\u001b[0m\u001b[1;33m[\u001b[0m\u001b[0mself\u001b[0m\u001b[1;33m]\u001b[0m\u001b[1;33m,\u001b[0m \u001b[0mtimeout\u001b[0m\u001b[1;33m)\u001b[0m\u001b[1;33m)\u001b[0m\u001b[1;33m\u001b[0m\u001b[1;33m\u001b[0m\u001b[0m\n\u001b[0m\u001b[0;32m    336\u001b[0m \u001b[1;33m\u001b[0m\u001b[0m\n\u001b[0;32m    337\u001b[0m         \u001b[1;32mdef\u001b[0m \u001b[0m_get_more_data\u001b[0m\u001b[1;33m(\u001b[0m\u001b[0mself\u001b[0m\u001b[1;33m,\u001b[0m \u001b[0mov\u001b[0m\u001b[1;33m,\u001b[0m \u001b[0mmaxsize\u001b[0m\u001b[1;33m)\u001b[0m\u001b[1;33m:\u001b[0m\u001b[1;33m\u001b[0m\u001b[1;33m\u001b[0m\u001b[0m\n",
      "\u001b[1;32mc:\\Users\\naxet\\anaconda3\\lib\\multiprocessing\\connection.py\u001b[0m in \u001b[0;36mwait\u001b[1;34m(object_list, timeout)\u001b[0m\n\u001b[0;32m    882\u001b[0m                         \u001b[0mtimeout\u001b[0m \u001b[1;33m=\u001b[0m \u001b[1;36m0\u001b[0m\u001b[1;33m\u001b[0m\u001b[1;33m\u001b[0m\u001b[0m\n\u001b[0;32m    883\u001b[0m \u001b[1;33m\u001b[0m\u001b[0m\n\u001b[1;32m--> 884\u001b[1;33m             \u001b[0mready_handles\u001b[0m \u001b[1;33m=\u001b[0m \u001b[0m_exhaustive_wait\u001b[0m\u001b[1;33m(\u001b[0m\u001b[0mwaithandle_to_obj\u001b[0m\u001b[1;33m.\u001b[0m\u001b[0mkeys\u001b[0m\u001b[1;33m(\u001b[0m\u001b[1;33m)\u001b[0m\u001b[1;33m,\u001b[0m \u001b[0mtimeout\u001b[0m\u001b[1;33m)\u001b[0m\u001b[1;33m\u001b[0m\u001b[1;33m\u001b[0m\u001b[0m\n\u001b[0m\u001b[0;32m    885\u001b[0m         \u001b[1;32mfinally\u001b[0m\u001b[1;33m:\u001b[0m\u001b[1;33m\u001b[0m\u001b[1;33m\u001b[0m\u001b[0m\n\u001b[0;32m    886\u001b[0m             \u001b[1;31m# request that overlapped reads stop\u001b[0m\u001b[1;33m\u001b[0m\u001b[1;33m\u001b[0m\u001b[0m\n",
      "\u001b[1;32mc:\\Users\\naxet\\anaconda3\\lib\\multiprocessing\\connection.py\u001b[0m in \u001b[0;36m_exhaustive_wait\u001b[1;34m(handles, timeout)\u001b[0m\n\u001b[0;32m    814\u001b[0m         \u001b[0mready\u001b[0m \u001b[1;33m=\u001b[0m \u001b[1;33m[\u001b[0m\u001b[1;33m]\u001b[0m\u001b[1;33m\u001b[0m\u001b[1;33m\u001b[0m\u001b[0m\n\u001b[0;32m    815\u001b[0m         \u001b[1;32mwhile\u001b[0m \u001b[0mL\u001b[0m\u001b[1;33m:\u001b[0m\u001b[1;33m\u001b[0m\u001b[1;33m\u001b[0m\u001b[0m\n\u001b[1;32m--> 816\u001b[1;33m             \u001b[0mres\u001b[0m \u001b[1;33m=\u001b[0m \u001b[0m_winapi\u001b[0m\u001b[1;33m.\u001b[0m\u001b[0mWaitForMultipleObjects\u001b[0m\u001b[1;33m(\u001b[0m\u001b[0mL\u001b[0m\u001b[1;33m,\u001b[0m \u001b[1;32mFalse\u001b[0m\u001b[1;33m,\u001b[0m \u001b[0mtimeout\u001b[0m\u001b[1;33m)\u001b[0m\u001b[1;33m\u001b[0m\u001b[1;33m\u001b[0m\u001b[0m\n\u001b[0m\u001b[0;32m    817\u001b[0m             \u001b[1;32mif\u001b[0m \u001b[0mres\u001b[0m \u001b[1;33m==\u001b[0m \u001b[0mWAIT_TIMEOUT\u001b[0m\u001b[1;33m:\u001b[0m\u001b[1;33m\u001b[0m\u001b[1;33m\u001b[0m\u001b[0m\n\u001b[0;32m    818\u001b[0m                 \u001b[1;32mbreak\u001b[0m\u001b[1;33m\u001b[0m\u001b[1;33m\u001b[0m\u001b[0m\n",
      "\u001b[1;31mKeyboardInterrupt\u001b[0m: "
     ]
    }
   ],
   "source": [
    "LR = 5e-4\n",
    "EPOCHS = 15\n",
    "DEVICE = torch.device(\n",
    "    f\"cuda:0\" if torch.cuda.is_available()\n",
    "    else \"cpu\"\n",
    ")\n",
    "\n",
    "Back_NeuralNetwork = MultiLayer(params_back, DEVICE).to(DEVICE)\n",
    "\n",
    "BackTrain(\n",
    "    model=Back_NeuralNetwork,\n",
    "    data_loader=train_data_loader,\n",
    "    loss_fn=cross_entropy,\n",
    "    acc_fn=accuracy,\n",
    "    learning_rate=LR,\n",
    "    device=DEVICE,\n",
    "    epochs=EPOCHS,\n",
    "    # If {control = True} we use epochs as the total number of iterations, if not, we use epochs as the limit of epochs computed.\n",
    "    control=False\n",
    ")\n"
   ]
  },
  {
   "attachments": {},
   "cell_type": "markdown",
   "metadata": {},
   "source": [
    "We can see that in each epoch the loss decreases, just how we wanted. "
   ]
  },
  {
   "attachments": {},
   "cell_type": "markdown",
   "metadata": {},
   "source": [
    "#### Evaluating the model\n",
    "\n",
    "Now we are going to evaluate the network testing with the validation data:\n"
   ]
  },
  {
   "cell_type": "code",
   "execution_count": 21,
   "metadata": {},
   "outputs": [],
   "source": [
    "def Eval(model, data_loader, loss_fn, acc_fn, device) -> None:\n",
    "\n",
    "    # Initialize some auxiliar variables\n",
    "    losses = []\n",
    "    accuracies = []\n",
    "\n",
    "    # Start time of the Evaluation\n",
    "    t0 = time.perf_counter()\n",
    "\n",
    "    for it, batch in enumerate(data_loader): \n",
    "\n",
    "        inputs = batch[0].to(device)\n",
    "        targets = batch[1].to(device)\n",
    "\n",
    "        # Start time of iteration\n",
    "        t2 = time.perf_counter()\n",
    "        \n",
    "        # We predict the inputs\n",
    "        predictions = model(inputs)\n",
    "        \n",
    "        # Calculate Loss\n",
    "        loss = loss_fn(predictions, targets)\n",
    "        losses.append(loss.item())\n",
    "\n",
    "        # Calculate Accuracy\n",
    "        acc = acc_fn(predictions, targets)\n",
    "        accuracies.append(acc.item()*10e2)\n",
    "\n",
    "        # End time of iteration\n",
    "        t3 = time.perf_counter()\n",
    "\n",
    "        # We sometimes print some information to follow the evaluation of the network as a process\n",
    "        if it % 10 == 0:\n",
    "            print(f\"Iteration {it:4d}, Loss: {loss:.4f}, It. Time: {t3 - t2:.4f} s\")\n",
    "            \n",
    "    # End time of the Evaluation\n",
    "    t1 = time.perf_counter()\n",
    "    \n",
    "    # Let's plot the losses and the Epoch Results\n",
    "    plt.plot(losses, 'o')\n",
    "    plt.show()\n",
    "    print(\"Evaluation RESULTS\")\n",
    "    print(f\"Loss: {sum(losses)/len(losses):.4f}\")\n",
    "    print(f\"Accuracy: {sum(accuracies)/len(accuracies):.1f}%\")\n",
    "    print(f\"Time: {t1-t0:.4f} s\")\n",
    "\n"
   ]
  },
  {
   "cell_type": "code",
   "execution_count": 22,
   "metadata": {},
   "outputs": [
    {
     "name": "stdout",
     "output_type": "stream",
     "text": [
      "Iteration    0, Loss: 0.0000, It. Time: 0.0014 s\n",
      "Iteration   10, Loss: 0.0000, It. Time: 0.0008 s\n",
      "Iteration   20, Loss: 0.0000, It. Time: 0.0026 s\n",
      "Iteration   30, Loss: 0.0000, It. Time: 0.0010 s\n",
      "Iteration   40, Loss: 0.0000, It. Time: 0.0011 s\n",
      "Iteration   50, Loss: 0.0000, It. Time: 0.0018 s\n",
      "Iteration   60, Loss: 0.0000, It. Time: 0.0014 s\n",
      "Iteration   70, Loss: 0.0000, It. Time: 0.0008 s\n"
     ]
    },
    {
     "data": {
      "image/png": "[encoded data removed]",
      "text/plain": [
       "<Figure size 640x480 with 1 Axes>"
      ]
     },
     "metadata": {},
     "output_type": "display_data"
    },
    {
     "name": "stdout",
     "output_type": "stream",
     "text": [
      "Evaluation RESULTS\n",
      "Loss: 0.0012\n",
      "Accuracy: 98.0%\n",
      "Time: 4.6315 s\n"
     ]
    }
   ],
   "source": [
    "Eval(\n",
    "    model=Back_NeuralNetwork,\n",
    "    data_loader=test_data_loader,\n",
    "    loss_fn=cross_entropy,\n",
    "    acc_fn=accuracy,\n",
    "    device=DEVICE\n",
    ")"
   ]
  },
  {
   "attachments": {},
   "cell_type": "markdown",
   "metadata": {},
   "source": [
    "### Forward Propagation"
   ]
  },
  {
   "attachments": {},
   "cell_type": "markdown",
   "metadata": {},
   "source": [
    "#### Training the model\n",
    "\n",
    "We now code the training loop for forward propagation:\n",
    "\n",
    "- `FwdTrain`\n"
   ]
  },
  {
   "cell_type": "code",
   "execution_count": 23,
   "metadata": {},
   "outputs": [],
   "source": [
    "def FwdEpoch(model, data_loader, loss_fn, learning_rate, device):\n",
    "    # Initialize some auxiliar variables\n",
    "    lossesEpoch = []\n",
    "\n",
    "    # Start time of the Epoch\n",
    "    t0 = time.perf_counter()\n",
    "\n",
    "    # We become the model into a functional one\n",
    "    fmodel, params = fc.make_functional(model)\n",
    "\n",
    "    for it, batch in enumerate(data_loader): \n",
    "\n",
    "        inputs = batch[0].to(device)\n",
    "        targets = batch[1].to(device)\n",
    "\n",
    "        # Sample perturbation (tangent) vectors for every parameter of the model\n",
    "        v_params = tuple([torch.randn_like(p) for p in params])\n",
    "\n",
    "        functional_model = partial(\n",
    "                    loss_fn,\n",
    "                    model=fmodel,\n",
    "                    x=inputs,\n",
    "                    t=targets,\n",
    "                )\n",
    "\n",
    "        # Forward Step\n",
    "        loss, jvp = fc.jvp(functional_model, (tuple(params), ), (v_params, ))\n",
    "        lossesEpoch.append(loss.item())\n",
    "\n",
    "        # functional_model parameter update\n",
    "        with torch.no_grad():\n",
    "            for i, p in enumerate(params):\n",
    "                p -= learning_rate * jvp * v_params[i]\n",
    "        break\n",
    "    # End time of the Epoch\n",
    "    t1 = time.perf_counter()\n",
    "    \n",
    "    # Model parameter update\n",
    "    with torch.no_grad():\n",
    "        for i, name_param in enumerate(model.named_parameters()):\n",
    "            model.register_parameter(name_param[0],list(params)[i])\n",
    "\n",
    "    # Let's plot the losses and the Epoch Results\n",
    "    meanLoss = sum(lossesEpoch)/len(lossesEpoch)\n",
    "    print(f\"    Loss: {meanLoss:.4f}\")\n",
    "    print(f\"    Time: {t1-t0:.4f} s\")\n",
    "\n",
    "    return meanLoss\n"
   ]
  },
  {
   "cell_type": "code",
   "execution_count": 25,
   "metadata": {},
   "outputs": [],
   "source": [
    "def FwdTrain(model, data_loader, loss_fn, learning_rate, device, epochs=25, control=True) -> None:\n",
    "    print(\"=== === === === === === === === === === === ===\")\n",
    "    print(\"Using\", torch.cuda.get_device_name(device))\n",
    "\n",
    "    losses = []\n",
    "\n",
    "    if control:\n",
    "        for i in range(epochs):\n",
    "            print(f\"---------------- EPOCH {i+1} -------------------\")\n",
    "\n",
    "            losses.append(\n",
    "                FwdEpoch(\n",
    "                model=model,\n",
    "                data_loader=data_loader,\n",
    "                loss_fn=loss_fn,\n",
    "                learning_rate=learning_rate,\n",
    "                device=device)\n",
    "            )\n",
    "    else:\n",
    "        loss = 1\n",
    "        i=0\n",
    "        while loss > 1e-4 and i < epochs:\n",
    "            print(f\"---------------- EPOCH {i+1} -------------------\")\n",
    "\n",
    "            \n",
    "            loss = FwdEpoch(\n",
    "                model=model,\n",
    "                data_loader=data_loader,\n",
    "                loss_fn=loss_fn,\n",
    "                learning_rate=learning_rate,\n",
    "                device=device)\n",
    "            \n",
    "            losses.append(loss)\n",
    "            i += 1\n",
    "        \n",
    "    plt.plot(losses)\n",
    "    plt.show()\n",
    "    print(\"-------------------------------------------------\") \n",
    "    print(\"Training Finished\")\n",
    "    print(\"=== === === === === === === === === === === ===\")"
   ]
  },
  {
   "cell_type": "code",
   "execution_count": 26,
   "metadata": {},
   "outputs": [
    {
     "name": "stdout",
     "output_type": "stream",
     "text": [
      "=== === === === === === === === === === === ===\n",
      "Using NVIDIA GeForce GTX 1050\n",
      "---------------- EPOCH 1 -------------------\n"
     ]
    },
    {
     "name": "stdout",
     "output_type": "stream",
     "text": [
      "    Loss: 2.3739\n",
      "    Time: 4.9428 s\n",
      "---------------- EPOCH 2 -------------------\n",
      "    Loss: 2.3706\n",
      "    Time: 4.7741 s\n",
      "---------------- EPOCH 3 -------------------\n",
      "    Loss: 2.3660\n",
      "    Time: 4.8511 s\n",
      "---------------- EPOCH 4 -------------------\n",
      "    Loss: 2.3817\n",
      "    Time: 4.8907 s\n",
      "---------------- EPOCH 5 -------------------\n",
      "    Loss: 2.3951\n",
      "    Time: 4.5132 s\n",
      "---------------- EPOCH 6 -------------------\n",
      "    Loss: 2.3919\n",
      "    Time: 4.5024 s\n",
      "---------------- EPOCH 7 -------------------\n",
      "    Loss: 2.4066\n",
      "    Time: 4.7977 s\n",
      "---------------- EPOCH 8 -------------------\n",
      "    Loss: 2.3728\n",
      "    Time: 4.7747 s\n",
      "---------------- EPOCH 9 -------------------\n",
      "    Loss: 2.3616\n",
      "    Time: 4.3236 s\n",
      "---------------- EPOCH 10 -------------------\n",
      "    Loss: 2.4085\n",
      "    Time: 4.6257 s\n"
     ]
    },
    {
     "data": {
      "image/png": "[encoded data removed]",
      "text/plain": [
       "<Figure size 640x480 with 1 Axes>"
      ]
     },
     "metadata": {},
     "output_type": "display_data"
    },
    {
     "name": "stdout",
     "output_type": "stream",
     "text": [
      "-------------------------------------------------\n",
      "Training Finished\n",
      "=== === === === === === === === === === === ===\n"
     ]
    }
   ],
   "source": [
    "LR = 5e-2\n",
    "EPOCHS = 10\n",
    "DEVICE = torch.device(\n",
    "    f\"cuda:0\" if torch.cuda.is_available()\n",
    "    else \"cpu\"\n",
    ")\n",
    "\n",
    "Fwd_NeuralNetwork = MultiLayer(params_fwd, DEVICE).to(DEVICE)\n",
    "\n",
    "FwdTrain(\n",
    "    model=Fwd_NeuralNetwork,\n",
    "    data_loader=train_data_loader,\n",
    "    loss_fn=functional_xent,\n",
    "    learning_rate=LR,\n",
    "    device=DEVICE,\n",
    "    epochs=EPOCHS,\n",
    "    # If {control = True} we use epochs as the total number of iterations, if not, we use epochs as the limit of epochs computed.\n",
    "    control=True\n",
    ")"
   ]
  },
  {
   "attachments": {},
   "cell_type": "markdown",
   "metadata": {},
   "source": [
    "#### Evaluating the model\n",
    "\n",
    "Now we are going to evaluate the network testing with the validation data:"
   ]
  },
  {
   "cell_type": "code",
   "execution_count": 27,
   "metadata": {},
   "outputs": [
    {
     "name": "stdout",
     "output_type": "stream",
     "text": [
      "Iteration    0, Loss: 32.5998, It. Time: 0.0019 s\n",
      "Iteration   10, Loss: 26.7992, It. Time: 0.0014 s\n",
      "Iteration   20, Loss: 20.3567, It. Time: 0.0013 s\n",
      "Iteration   30, Loss: 30.5079, It. Time: 0.0014 s\n",
      "Iteration   40, Loss: 30.6534, It. Time: 0.0013 s\n",
      "Iteration   50, Loss: 25.1923, It. Time: 0.0026 s\n",
      "Iteration   60, Loss: 28.6065, It. Time: 0.0011 s\n",
      "Iteration   70, Loss: 30.9578, It. Time: 0.0015 s\n"
     ]
    },
    {
     "data": {
      "image/png": "[encoded data removed]",
      "text/plain": [
       "<Figure size 640x480 with 1 Axes>"
      ]
     },
     "metadata": {},
     "output_type": "display_data"
    },
    {
     "name": "stdout",
     "output_type": "stream",
     "text": [
      "Evaluation RESULTS\n",
      "Loss: 27.3369\n",
      "Accuracy: 87.5%\n",
      "Time: 4.6073 s\n"
     ]
    }
   ],
   "source": [
    "Eval(\n",
    "    model=Fwd_NeuralNetwork,\n",
    "    data_loader=test_data_loader,\n",
    "    loss_fn=cross_entropy,\n",
    "    acc_fn=accuracy,\n",
    "    device=DEVICE\n",
    ")\n"
   ]
  },
  {
   "attachments": {},
   "cell_type": "markdown",
   "metadata": {},
   "source": [
    "## Comparing Parameters"
   ]
  },
  {
   "cell_type": "code",
   "execution_count": 28,
   "metadata": {},
   "outputs": [
    {
     "name": "stdout",
     "output_type": "stream",
     "text": [
      "initial: tensor([ 0.7713, -0.6628,  0.2869,  0.5474,  0.0686, -0.2796,  0.4877, -0.8102,\n",
      "         0.2754, -0.3523])\n",
      "back: Parameter containing:\n",
      "tensor([ 0.7824, -0.6629,  0.2847,  0.5467,  0.0684, -0.2796,  0.4832, -0.8102,\n",
      "         0.2722, -0.3525], device='cuda:0', requires_grad=True)\n",
      "fwd: Parameter containing:\n",
      "tensor([ 0.7842, -0.7734,  0.1954,  0.5469,  0.1586, -0.3560,  0.5061, -0.7684,\n",
      "         0.2198, -0.3289], device='cuda:0', requires_grad=True)\n"
     ]
    }
   ],
   "source": [
    "print(\"initial:\", params_fixed[5])\n",
    "print(\"back:\", list(Back_NeuralNetwork.parameters())[5])\n",
    "print(\"fwd:\", list(Fwd_NeuralNetwork.parameters())[5])"
   ]
  }
 ],
 "metadata": {
  "kernelspec": {
   "display_name": "base",
   "language": "python",
   "name": "python3"
  },
  "language_info": {
   "codemirror_mode": {
    "name": "ipython",
    "version": 3
   },
   "file_extension": ".py",
   "mimetype": "text/x-python",
   "name": "python",
   "nbconvert_exporter": "python",
   "pygments_lexer": "ipython3",
   "version": "3.9.13"
  },
  "orig_nbformat": 4,
  "vscode": {
   "interpreter": {
    "hash": "818c43366d05262e85c3ded0ab6de574a0ebd60a97c552125bc88586dca7326c"
   }
  }
 },
 "nbformat": 4,
 "nbformat_minor": 2
}
